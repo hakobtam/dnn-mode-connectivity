{
 "cells": [
  {
   "cell_type": "code",
   "execution_count": 9,
   "metadata": {},
   "outputs": [],
   "source": [
    "import numpy as np\n",
    "import os\n",
    "import sys\n",
    "import tabulate\n",
    "import torch\n",
    "import torch.nn.functional as F\n",
    "\n",
    "from tqdm import tqdm_notebook as tqdm\n",
    "\n",
    "from torchtext import data\n",
    "from torchtext import datasets\n",
    "from torchtext.vocab import Vectors, GloVe\n",
    "\n",
    "import curves\n",
    "import data\n",
    "import load_data\n",
    "import models\n",
    "import utils"
   ]
  },
  {
   "cell_type": "code",
   "execution_count": 14,
   "metadata": {},
   "outputs": [],
   "source": [
    "c_dir = './chain'\n",
    "num_points = 12                # number of points between models\n",
    "batch_size = 64               # input batch size\n",
    "num_workers = 4               # number of workers\n",
    "model_name = 'LSTMClassifier' # model name\n",
    "wd = 1e-5                     # weight decay\n",
    "ckpts = ['./saved_models/point4.pt', './saved_models/point5.pt'] # checkpoint to eval, pass all the models through this parameter"
   ]
  },
  {
   "cell_type": "code",
   "execution_count": 15,
   "metadata": {},
   "outputs": [
    {
     "name": "stdout",
     "output_type": "stream",
     "text": [
      "Length of Text Vocabulary: 135872\n",
      "Vector size of Text Vocabulary:  torch.Size([135872, 300])\n",
      "Label Length: 4\n"
     ]
    }
   ],
   "source": [
    "TEXT, vocab_size, num_classes, word_embeddings, train_loader, valid_loader, test_loader = \\\n",
    "                                load_data.load_dataset(batch_size=batch_size)"
   ]
  },
  {
   "cell_type": "code",
   "execution_count": 16,
   "metadata": {},
   "outputs": [
    {
     "data": {
      "text/plain": [
       "array([0.        , 0.09090909, 0.18181818, 0.27272727, 0.36363636,\n",
       "       0.45454545, 0.54545455, 0.63636364, 0.72727273, 0.81818182,\n",
       "       0.90909091, 1.        ])"
      ]
     },
     "execution_count": 16,
     "metadata": {},
     "output_type": "execute_result"
    }
   ],
   "source": [
    "np.linspace(0.0, 1.0, num_points)"
   ]
  },
  {
   "cell_type": "code",
   "execution_count": 17,
   "metadata": {},
   "outputs": [
    {
     "name": "stdout",
     "output_type": "stream",
     "text": [
      "./saved_models/point4.pt\n",
      "./saved_models/point5.pt\n"
     ]
    },
    {
     "data": {
      "application/vnd.jupyter.widget-view+json": {
       "model_id": "7b2695bec92b43be9525e1a2eb375961",
       "version_major": 2,
       "version_minor": 0
      },
      "text/plain": [
       "HBox(children=(IntProgress(value=0, max=1594), HTML(value='')))"
      ]
     },
     "metadata": {},
     "output_type": "display_data"
    },
    {
     "name": "stdout",
     "output_type": "stream",
     "text": [
      "\n"
     ]
    },
    {
     "data": {
      "application/vnd.jupyter.widget-view+json": {
       "model_id": "0661dbfd22924ae6849ab6d2f13d57a1",
       "version_major": 2,
       "version_minor": 0
      },
      "text/plain": [
       "HBox(children=(IntProgress(value=0, max=119), HTML(value='')))"
      ]
     },
     "metadata": {},
     "output_type": "display_data"
    },
    {
     "name": "stdout",
     "output_type": "stream",
     "text": [
      "\n",
      "----------  ------------  -----------  -----------------  ----------  ----------------\n",
      "         t    Train loss    Train nll    Train error (%)    Test nll    Test error (%)\n",
      "----------  ------------  -----------  -----------------  ----------  ----------------\n",
      "    0.0000        0.0140       0.0140             0.6016      0.4701           10.5462\n"
     ]
    },
    {
     "data": {
      "application/vnd.jupyter.widget-view+json": {
       "model_id": "1e0b61202a8a409894f0b97b3c9df7e5",
       "version_major": 2,
       "version_minor": 0
      },
      "text/plain": [
       "HBox(children=(IntProgress(value=0, max=1594), HTML(value='')))"
      ]
     },
     "metadata": {},
     "output_type": "display_data"
    },
    {
     "name": "stdout",
     "output_type": "stream",
     "text": [
      "\n"
     ]
    },
    {
     "data": {
      "application/vnd.jupyter.widget-view+json": {
       "model_id": "b25d851b21124e61a30bc769b985a06c",
       "version_major": 2,
       "version_minor": 0
      },
      "text/plain": [
       "HBox(children=(IntProgress(value=0, max=119), HTML(value='')))"
      ]
     },
     "metadata": {},
     "output_type": "display_data"
    },
    {
     "name": "stdout",
     "output_type": "stream",
     "text": [
      "\n",
      "    0.0909        0.0217       0.0217             0.9561      0.4318           10.5462\n"
     ]
    },
    {
     "data": {
      "application/vnd.jupyter.widget-view+json": {
       "model_id": "b495b0d51a37498ab5bab99d732c6897",
       "version_major": 2,
       "version_minor": 0
      },
      "text/plain": [
       "HBox(children=(IntProgress(value=0, max=1594), HTML(value='')))"
      ]
     },
     "metadata": {},
     "output_type": "display_data"
    },
    {
     "name": "stdout",
     "output_type": "stream",
     "text": [
      "\n"
     ]
    },
    {
     "data": {
      "application/vnd.jupyter.widget-view+json": {
       "model_id": "4afd1b949b1646b399f955c317c72d68",
       "version_major": 2,
       "version_minor": 0
      },
      "text/plain": [
       "HBox(children=(IntProgress(value=0, max=119), HTML(value='')))"
      ]
     },
     "metadata": {},
     "output_type": "display_data"
    },
    {
     "name": "stdout",
     "output_type": "stream",
     "text": [
      "\n",
      "    0.1818        0.0637       0.0637             2.8049      0.4164           10.6303\n"
     ]
    },
    {
     "data": {
      "application/vnd.jupyter.widget-view+json": {
       "model_id": "66028f072a5a46e4ab7f8a38d274e8a9",
       "version_major": 2,
       "version_minor": 0
      },
      "text/plain": [
       "HBox(children=(IntProgress(value=0, max=1594), HTML(value='')))"
      ]
     },
     "metadata": {},
     "output_type": "display_data"
    },
    {
     "name": "stdout",
     "output_type": "stream",
     "text": [
      "\n"
     ]
    },
    {
     "data": {
      "application/vnd.jupyter.widget-view+json": {
       "model_id": "097ca5e5d8c14648aff3227a682dd096",
       "version_major": 2,
       "version_minor": 0
      },
      "text/plain": [
       "HBox(children=(IntProgress(value=0, max=119), HTML(value='')))"
      ]
     },
     "metadata": {},
     "output_type": "display_data"
    },
    {
     "name": "stdout",
     "output_type": "stream",
     "text": [
      "\n",
      "    0.2727        0.1944       0.1944             6.8118      0.4545           12.7143\n"
     ]
    },
    {
     "data": {
      "application/vnd.jupyter.widget-view+json": {
       "model_id": "93a7941e85ad44879fd849dd9e747fde",
       "version_major": 2,
       "version_minor": 0
      },
      "text/plain": [
       "HBox(children=(IntProgress(value=0, max=1594), HTML(value='')))"
      ]
     },
     "metadata": {},
     "output_type": "display_data"
    },
    {
     "name": "stdout",
     "output_type": "stream",
     "text": [
      "\n"
     ]
    },
    {
     "data": {
      "application/vnd.jupyter.widget-view+json": {
       "model_id": "aa07e345305445b1b73b9b7071ed489c",
       "version_major": 2,
       "version_minor": 0
      },
      "text/plain": [
       "HBox(children=(IntProgress(value=0, max=119), HTML(value='')))"
      ]
     },
     "metadata": {},
     "output_type": "display_data"
    },
    {
     "name": "stdout",
     "output_type": "stream",
     "text": [
      "\n",
      "    0.3636        0.4991       0.4991            16.1744      0.6505           19.7143\n"
     ]
    },
    {
     "data": {
      "application/vnd.jupyter.widget-view+json": {
       "model_id": "44b18ad5be1942748c3f6ba02380af55",
       "version_major": 2,
       "version_minor": 0
      },
      "text/plain": [
       "HBox(children=(IntProgress(value=0, max=1594), HTML(value='')))"
      ]
     },
     "metadata": {},
     "output_type": "display_data"
    },
    {
     "name": "stdout",
     "output_type": "stream",
     "text": [
      "\n"
     ]
    },
    {
     "data": {
      "application/vnd.jupyter.widget-view+json": {
       "model_id": "797e516f36d74c0c92a7dc3243c4c043",
       "version_major": 2,
       "version_minor": 0
      },
      "text/plain": [
       "HBox(children=(IntProgress(value=0, max=119), HTML(value='')))"
      ]
     },
     "metadata": {},
     "output_type": "display_data"
    },
    {
     "name": "stdout",
     "output_type": "stream",
     "text": [
      "\n",
      "    0.4545        0.9623       0.9623            34.3356      1.0110           36.2017\n"
     ]
    },
    {
     "data": {
      "application/vnd.jupyter.widget-view+json": {
       "model_id": "f35859f7c483469badf4f5160492b4ec",
       "version_major": 2,
       "version_minor": 0
      },
      "text/plain": [
       "HBox(children=(IntProgress(value=0, max=1594), HTML(value='')))"
      ]
     },
     "metadata": {},
     "output_type": "display_data"
    },
    {
     "name": "stdout",
     "output_type": "stream",
     "text": [
      "\n"
     ]
    },
    {
     "data": {
      "application/vnd.jupyter.widget-view+json": {
       "model_id": "6ae6cabdde8e4ade9834feac28cfb552",
       "version_major": 2,
       "version_minor": 0
      },
      "text/plain": [
       "HBox(children=(IntProgress(value=0, max=119), HTML(value='')))"
      ]
     },
     "metadata": {},
     "output_type": "display_data"
    },
    {
     "name": "stdout",
     "output_type": "stream",
     "text": [
      "\n",
      "    0.5455        1.3031       1.3031            50.9285      1.3062           51.7311\n"
     ]
    },
    {
     "data": {
      "application/vnd.jupyter.widget-view+json": {
       "model_id": "4852a0d0dd654d9e98979d3c87b99d92",
       "version_major": 2,
       "version_minor": 0
      },
      "text/plain": [
       "HBox(children=(IntProgress(value=0, max=1594), HTML(value='')))"
      ]
     },
     "metadata": {},
     "output_type": "display_data"
    },
    {
     "name": "stdout",
     "output_type": "stream",
     "text": [
      "\n"
     ]
    },
    {
     "data": {
      "application/vnd.jupyter.widget-view+json": {
       "model_id": "55bc86dae5b5432d99c53bd9232c65c7",
       "version_major": 2,
       "version_minor": 0
      },
      "text/plain": [
       "HBox(children=(IntProgress(value=0, max=119), HTML(value='')))"
      ]
     },
     "metadata": {},
     "output_type": "display_data"
    },
    {
     "name": "stdout",
     "output_type": "stream",
     "text": [
      "\n",
      "    0.6364        1.7384       1.7384            60.1255      1.7346           60.5546\n"
     ]
    },
    {
     "data": {
      "application/vnd.jupyter.widget-view+json": {
       "model_id": "872bb1c425d44b6e8800738412c89fd0",
       "version_major": 2,
       "version_minor": 0
      },
      "text/plain": [
       "HBox(children=(IntProgress(value=0, max=1594), HTML(value='')))"
      ]
     },
     "metadata": {},
     "output_type": "display_data"
    },
    {
     "name": "stdout",
     "output_type": "stream",
     "text": [
      "\n"
     ]
    },
    {
     "data": {
      "application/vnd.jupyter.widget-view+json": {
       "model_id": "b908dc86791b4942bf74d0e0131eedd0",
       "version_major": 2,
       "version_minor": 0
      },
      "text/plain": [
       "HBox(children=(IntProgress(value=0, max=119), HTML(value='')))"
      ]
     },
     "metadata": {},
     "output_type": "display_data"
    },
    {
     "name": "stdout",
     "output_type": "stream",
     "text": [
      "\n",
      "    0.7273        0.4451       0.4451            12.8450      0.5646           16.2689\n"
     ]
    },
    {
     "data": {
      "application/vnd.jupyter.widget-view+json": {
       "model_id": "50741fa4c3f04af9ab3e47d4a79855d1",
       "version_major": 2,
       "version_minor": 0
      },
      "text/plain": [
       "HBox(children=(IntProgress(value=0, max=1594), HTML(value='')))"
      ]
     },
     "metadata": {},
     "output_type": "display_data"
    },
    {
     "name": "stdout",
     "output_type": "stream",
     "text": [
      "\n"
     ]
    },
    {
     "data": {
      "application/vnd.jupyter.widget-view+json": {
       "model_id": "144e39760da04111aed3f528067199ef",
       "version_major": 2,
       "version_minor": 0
      },
      "text/plain": [
       "HBox(children=(IntProgress(value=0, max=119), HTML(value='')))"
      ]
     },
     "metadata": {},
     "output_type": "display_data"
    },
    {
     "name": "stdout",
     "output_type": "stream",
     "text": [
      "\n",
      "    0.8182        0.1815       0.1815             5.4592      0.4691           11.3529\n"
     ]
    },
    {
     "data": {
      "application/vnd.jupyter.widget-view+json": {
       "model_id": "de63c98df7614beaaccbf2ae4d2ae14d",
       "version_major": 2,
       "version_minor": 0
      },
      "text/plain": [
       "HBox(children=(IntProgress(value=0, max=1594), HTML(value='')))"
      ]
     },
     "metadata": {},
     "output_type": "display_data"
    },
    {
     "name": "stdout",
     "output_type": "stream",
     "text": [
      "\n"
     ]
    },
    {
     "data": {
      "application/vnd.jupyter.widget-view+json": {
       "model_id": "cc0ad12eb22c4629a8e191531a67ae80",
       "version_major": 2,
       "version_minor": 0
      },
      "text/plain": [
       "HBox(children=(IntProgress(value=0, max=119), HTML(value='')))"
      ]
     },
     "metadata": {},
     "output_type": "display_data"
    },
    {
     "name": "stdout",
     "output_type": "stream",
     "text": [
      "\n",
      "    0.9091        0.0382       0.0382             1.5621      0.4493           10.0756\n"
     ]
    },
    {
     "data": {
      "application/vnd.jupyter.widget-view+json": {
       "model_id": "b628558ccebe42e4b68e94f79a7bc092",
       "version_major": 2,
       "version_minor": 0
      },
      "text/plain": [
       "HBox(children=(IntProgress(value=0, max=1594), HTML(value='')))"
      ]
     },
     "metadata": {},
     "output_type": "display_data"
    },
    {
     "name": "stdout",
     "output_type": "stream",
     "text": [
      "\n"
     ]
    },
    {
     "data": {
      "application/vnd.jupyter.widget-view+json": {
       "model_id": "540e3ccded2f46f0a67646945d651719",
       "version_major": 2,
       "version_minor": 0
      },
      "text/plain": [
       "HBox(children=(IntProgress(value=0, max=119), HTML(value='')))"
      ]
     },
     "metadata": {},
     "output_type": "display_data"
    },
    {
     "name": "stdout",
     "output_type": "stream",
     "text": [
      "\n",
      "    1.0000        0.0125       0.0125             0.4981      0.4807            9.9748\n"
     ]
    }
   ],
   "source": [
    "torch.backends.cudnn.benchmark = True\n",
    "\n",
    "architecture = getattr(models, model_name)\n",
    "kwargs = {\n",
    "    'batch_size': batch_size,\n",
    "    'hidden_size': 256,\n",
    "    'embedding_length': 300,\n",
    "    'vocab_size': vocab_size,\n",
    "    'weights': word_embeddings\n",
    "}\n",
    "\n",
    "base_model = architecture.base(num_classes=num_classes, **kwargs)\n",
    "base_model.cuda()\n",
    "\n",
    "\n",
    "criterion = torch.nn.CrossEntropyLoss()\n",
    "#regularizer = utils.l2_regularizer(wd)\n",
    "regularizer = None\n",
    "\n",
    "def get_weights(model):\n",
    "    return np.concatenate([p.data.cpu().numpy().ravel() for p in model.parameters()])\n",
    "\n",
    "T = (num_points - 1) * (len(ckpts) - 1) + 1\n",
    "ts = np.linspace(0.0, len(ckpts) - 1, T)\n",
    "tr_loss = np.zeros(T)\n",
    "tr_nll = np.zeros(T)\n",
    "tr_acc = np.zeros(T)\n",
    "te_loss = np.zeros(T)\n",
    "te_nll = np.zeros(T)\n",
    "te_acc = np.zeros(T)\n",
    "tr_err = np.zeros(T)\n",
    "te_err = np.zeros(T)\n",
    "\n",
    "columns = ['t', 'Train loss', 'Train nll', 'Train error (%)', 'Test nll', 'Test error (%)']\n",
    "\n",
    "alphas = np.linspace(0.0, 1.0, num_points)\n",
    "\n",
    "for path in ckpts:\n",
    "    print(path)\n",
    "\n",
    "step = 0\n",
    "for i in range(len(ckpts) - 1):\n",
    "    base_model.load_state_dict(torch.load(ckpts[i])['model_state'])\n",
    "    w_1 = get_weights(base_model)\n",
    "\n",
    "    base_model.load_state_dict(torch.load(ckpts[i + 1])['model_state'])\n",
    "    w_2 = get_weights(base_model)\n",
    "    for alpha in alphas[1 if i > 0 else 0:]:\n",
    "        w = (1.0 - alpha) * w_1 + alpha * w_2\n",
    "        offset = 0\n",
    "        for parameter in base_model.parameters():\n",
    "            size = np.prod(parameter.size())\n",
    "            value = w[offset:offset+size].reshape(parameter.size())\n",
    "            parameter.data.copy_(torch.from_numpy(value))\n",
    "            offset += size\n",
    "\n",
    "        #utils.update_bn(loaders['train'], base_model)\n",
    "\n",
    "        tr_res = utils.eval_model(train_loader, base_model, criterion, batch_size, regularizer)\n",
    "        te_res = utils.eval_model(test_loader, base_model, criterion, batch_size, regularizer)\n",
    "\n",
    "        tr_loss[step] = tr_res['loss']\n",
    "        tr_nll[step] = tr_res['nll']\n",
    "        tr_acc[step] = tr_res['acc']\n",
    "        tr_err[step] = 100.0 - tr_acc[step]\n",
    "        te_loss[step] = te_res['loss']\n",
    "        te_nll[step] = te_res['nll']\n",
    "        te_acc[step] = te_res['acc']\n",
    "        te_err[step] = 100.0 - te_acc[step]\n",
    "\n",
    "        values = [ts[step], tr_loss[step], tr_nll[step], tr_err[step], te_nll[step], te_err[step]]\n",
    "        table = tabulate.tabulate([values], columns, tablefmt='simple', floatfmt='10.4f')\n",
    "        if step % 40 == 0:\n",
    "            table = table.split('\\n')\n",
    "            table = '\\n'.join([table[1]] + table)\n",
    "        else:\n",
    "            table = table.split('\\n')[2]\n",
    "        print(table)\n",
    "        step += 1\n",
    "\n",
    "\n",
    "np.savez(\n",
    "    os.path.join(c_dir, 'chain4_5.npz'),\n",
    "    ts=ts,\n",
    "    tr_loss=tr_loss,\n",
    "    tr_nll=tr_nll,\n",
    "    tr_acc=tr_acc,\n",
    "    tr_err=tr_err,\n",
    "    te_loss=te_loss,\n",
    "    te_nll=te_nll,\n",
    "    te_acc=te_acc,\n",
    "    te_err=te_err,\n",
    ")"
   ]
  },
  {
   "cell_type": "code",
   "execution_count": 19,
   "metadata": {},
   "outputs": [],
   "source": []
  },
  {
   "cell_type": "code",
   "execution_count": null,
   "metadata": {},
   "outputs": [],
   "source": []
  }
 ],
 "metadata": {
  "kernelspec": {
   "display_name": "Python 3",
   "language": "python",
   "name": "python3"
  },
  "language_info": {
   "codemirror_mode": {
    "name": "ipython",
    "version": 3
   },
   "file_extension": ".py",
   "mimetype": "text/x-python",
   "name": "python",
   "nbconvert_exporter": "python",
   "pygments_lexer": "ipython3",
   "version": "3.5.2"
  }
 },
 "nbformat": 4,
 "nbformat_minor": 2
}
