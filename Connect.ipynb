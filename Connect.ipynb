{
 "cells": [
  {
   "cell_type": "code",
   "execution_count": 1,
   "metadata": {},
   "outputs": [],
   "source": [
    "import numpy as np\n",
    "import os\n",
    "import sys\n",
    "import tabulate\n",
    "import torch\n",
    "import torch.nn.functional as F\n",
    "\n",
    "from tqdm import tqdm_notebook as tqdm\n",
    "\n",
    "from torchtext import data\n",
    "from torchtext import datasets\n",
    "from torchtext.vocab import Vectors, GloVe\n",
    "\n",
    "import curves\n",
    "import data\n",
    "import load_data\n",
    "import models\n",
    "import utils"
   ]
  },
  {
   "cell_type": "code",
   "execution_count": 2,
   "metadata": {},
   "outputs": [],
   "source": [
    "c_dir = './chain'\n",
    "num_points = 10                # number of points between models\n",
    "batch_size = 32               # input batch size\n",
    "num_workers = 4               # number of workers\n",
    "model_name = 'LSTMClassifier' # model name\n",
    "wd = 1e-5                     # weight decay\n",
    "ckpts = ['./saved_models/LSTMClassifier-6.pt', './saved_models/LSTMClassifier2-4.pt'] # checkpoint to eval, pass all the models through this parameter"
   ]
  },
  {
   "cell_type": "code",
   "execution_count": 3,
   "metadata": {},
   "outputs": [
    {
     "name": "stdout",
     "output_type": "stream",
     "text": [
      "Length of Text Vocabulary: 135872\n",
      "Vector size of Text Vocabulary:  torch.Size([135872, 300])\n",
      "Label Length: 4\n"
     ]
    }
   ],
   "source": [
    "TEXT, vocab_size, num_classes, word_embeddings, train_loader, valid_loader, test_loader = \\\n",
    "                                load_data.load_dataset(batch_size=batch_size)"
   ]
  },
  {
   "cell_type": "code",
   "execution_count": 4,
   "metadata": {},
   "outputs": [
    {
     "data": {
      "text/plain": [
       "array([0.        , 0.11111111, 0.22222222, 0.33333333, 0.44444444,\n",
       "       0.55555556, 0.66666667, 0.77777778, 0.88888889, 1.        ])"
      ]
     },
     "execution_count": 4,
     "metadata": {},
     "output_type": "execute_result"
    }
   ],
   "source": [
    "np.linspace(0.0, 1.0, num_points)"
   ]
  },
  {
   "cell_type": "code",
   "execution_count": 5,
   "metadata": {},
   "outputs": [
    {
     "name": "stdout",
     "output_type": "stream",
     "text": [
      "./saved_models/LSTMClassifier-6.pt\n",
      "./saved_models/LSTMClassifier2-4.pt\n"
     ]
    },
    {
     "data": {
      "application/vnd.jupyter.widget-view+json": {
       "model_id": "6e12d92a4b54490aa104e1244f7ebd50",
       "version_major": 2,
       "version_minor": 0
      },
      "text/plain": [
       "HBox(children=(IntProgress(value=0, max=3188), HTML(value='')))"
      ]
     },
     "metadata": {},
     "output_type": "display_data"
    },
    {
     "name": "stdout",
     "output_type": "stream",
     "text": [
      "\n"
     ]
    },
    {
     "data": {
      "application/vnd.jupyter.widget-view+json": {
       "model_id": "e1367fe1c3aa4bf693c35b7f2ae2f963",
       "version_major": 2,
       "version_minor": 0
      },
      "text/plain": [
       "HBox(children=(IntProgress(value=0, max=238), HTML(value='')))"
      ]
     },
     "metadata": {},
     "output_type": "display_data"
    },
    {
     "name": "stderr",
     "output_type": "stream",
     "text": [
      "/home/hakobtamazyan/venv3/lib/python3.5/site-packages/torchtext/data/field.py:321: UserWarning: volatile was removed and now has no effect. Use `with torch.no_grad():` instead.\n",
      "  return Variable(arr, volatile=not train), lengths\n",
      "/home/hakobtamazyan/venv3/lib/python3.5/site-packages/torchtext/data/field.py:322: UserWarning: volatile was removed and now has no effect. Use `with torch.no_grad():` instead.\n",
      "  return Variable(arr, volatile=not train)\n"
     ]
    },
    {
     "name": "stdout",
     "output_type": "stream",
     "text": [
      "\n",
      "----------  ------------  -----------  -----------------  ----------  ----------------\n",
      "         t    Train loss    Train nll    Train error (%)    Test nll    Test error (%)\n",
      "----------  ------------  -----------  -----------------  ----------  ----------------\n",
      "    0.0000        0.1365       0.1365             4.9696      0.2443            9.4118\n"
     ]
    },
    {
     "data": {
      "application/vnd.jupyter.widget-view+json": {
       "model_id": "5d770b17db3145b0916572a7dfad0267",
       "version_major": 2,
       "version_minor": 0
      },
      "text/plain": [
       "HBox(children=(IntProgress(value=0, max=3188), HTML(value='')))"
      ]
     },
     "metadata": {},
     "output_type": "display_data"
    },
    {
     "name": "stdout",
     "output_type": "stream",
     "text": [
      "\n"
     ]
    },
    {
     "data": {
      "application/vnd.jupyter.widget-view+json": {
       "model_id": "b6625e7ba6304981a4f5c0781b54050d",
       "version_major": 2,
       "version_minor": 0
      },
      "text/plain": [
       "HBox(children=(IntProgress(value=0, max=238), HTML(value='')))"
      ]
     },
     "metadata": {},
     "output_type": "display_data"
    },
    {
     "name": "stdout",
     "output_type": "stream",
     "text": [
      "\n",
      "    0.1111        0.1650       0.1650             5.4316      0.2464            9.5336\n"
     ]
    },
    {
     "data": {
      "application/vnd.jupyter.widget-view+json": {
       "model_id": "339946ce86c0489d9e415a8cd989983c",
       "version_major": 2,
       "version_minor": 0
      },
      "text/plain": [
       "HBox(children=(IntProgress(value=0, max=3188), HTML(value='')))"
      ]
     },
     "metadata": {},
     "output_type": "display_data"
    },
    {
     "name": "stdout",
     "output_type": "stream",
     "text": [
      "\n"
     ]
    },
    {
     "data": {
      "application/vnd.jupyter.widget-view+json": {
       "model_id": "9d4d710b8ad349d3bef32e6707702186",
       "version_major": 2,
       "version_minor": 0
      },
      "text/plain": [
       "HBox(children=(IntProgress(value=0, max=238), HTML(value='')))"
      ]
     },
     "metadata": {},
     "output_type": "display_data"
    },
    {
     "name": "stdout",
     "output_type": "stream",
     "text": [
      "\n",
      "    0.2222        0.2836       0.2836             7.6876      0.3342           10.6555\n"
     ]
    },
    {
     "data": {
      "application/vnd.jupyter.widget-view+json": {
       "model_id": "10dd5c7512bc4d24bdf2926b7978a195",
       "version_major": 2,
       "version_minor": 0
      },
      "text/plain": [
       "HBox(children=(IntProgress(value=0, max=3188), HTML(value='')))"
      ]
     },
     "metadata": {},
     "output_type": "display_data"
    },
    {
     "name": "stdout",
     "output_type": "stream",
     "text": [
      "\n"
     ]
    },
    {
     "data": {
      "application/vnd.jupyter.widget-view+json": {
       "model_id": "6535cd762e5b465ba9b7303e00c78320",
       "version_major": 2,
       "version_minor": 0
      },
      "text/plain": [
       "HBox(children=(IntProgress(value=0, max=238), HTML(value='')))"
      ]
     },
     "metadata": {},
     "output_type": "display_data"
    },
    {
     "name": "stdout",
     "output_type": "stream",
     "text": [
      "\n",
      "    0.3333        0.7139       0.7139            20.4241      0.7366           22.2353\n"
     ]
    },
    {
     "data": {
      "application/vnd.jupyter.widget-view+json": {
       "model_id": "b08c1d646ae043bcb9eaea62fe4b7ec0",
       "version_major": 2,
       "version_minor": 0
      },
      "text/plain": [
       "HBox(children=(IntProgress(value=0, max=3188), HTML(value='')))"
      ]
     },
     "metadata": {},
     "output_type": "display_data"
    },
    {
     "name": "stdout",
     "output_type": "stream",
     "text": [
      "\n"
     ]
    },
    {
     "data": {
      "application/vnd.jupyter.widget-view+json": {
       "model_id": "8e82765cfc19414fa9d057f9a223adbf",
       "version_major": 2,
       "version_minor": 0
      },
      "text/plain": [
       "HBox(children=(IntProgress(value=0, max=238), HTML(value='')))"
      ]
     },
     "metadata": {},
     "output_type": "display_data"
    },
    {
     "name": "stdout",
     "output_type": "stream",
     "text": [
      "\n",
      "    0.4444        1.5526       1.5526            57.2343      1.5536           57.8571\n"
     ]
    },
    {
     "data": {
      "application/vnd.jupyter.widget-view+json": {
       "model_id": "c7f4a7e718894e15a4c8bd72b343b608",
       "version_major": 2,
       "version_minor": 0
      },
      "text/plain": [
       "HBox(children=(IntProgress(value=0, max=3188), HTML(value='')))"
      ]
     },
     "metadata": {},
     "output_type": "display_data"
    },
    {
     "name": "stdout",
     "output_type": "stream",
     "text": [
      "\n"
     ]
    },
    {
     "data": {
      "application/vnd.jupyter.widget-view+json": {
       "model_id": "740df40ea93e435eba17b65a7e9c6ae2",
       "version_major": 2,
       "version_minor": 0
      },
      "text/plain": [
       "HBox(children=(IntProgress(value=0, max=238), HTML(value='')))"
      ]
     },
     "metadata": {},
     "output_type": "display_data"
    },
    {
     "name": "stdout",
     "output_type": "stream",
     "text": [
      "\n",
      "    0.5556        1.5694       1.5694            74.8582      1.5645           75.1765\n"
     ]
    },
    {
     "data": {
      "application/vnd.jupyter.widget-view+json": {
       "model_id": "cc8c1739703744ba80aadbc0411b38f5",
       "version_major": 2,
       "version_minor": 0
      },
      "text/plain": [
       "HBox(children=(IntProgress(value=0, max=3188), HTML(value='')))"
      ]
     },
     "metadata": {},
     "output_type": "display_data"
    },
    {
     "name": "stdout",
     "output_type": "stream",
     "text": [
      "\n"
     ]
    },
    {
     "data": {
      "application/vnd.jupyter.widget-view+json": {
       "model_id": "5dfe6a8097f643d18cc368d32d4e0b02",
       "version_major": 2,
       "version_minor": 0
      },
      "text/plain": [
       "HBox(children=(IntProgress(value=0, max=238), HTML(value='')))"
      ]
     },
     "metadata": {},
     "output_type": "display_data"
    },
    {
     "name": "stdout",
     "output_type": "stream",
     "text": [
      "\n",
      "    0.6667        0.9462       0.9462            34.9922      0.9526           35.3319\n"
     ]
    },
    {
     "data": {
      "application/vnd.jupyter.widget-view+json": {
       "model_id": "ca4c010a6a54410f9d21ab8a90bccfdd",
       "version_major": 2,
       "version_minor": 0
      },
      "text/plain": [
       "HBox(children=(IntProgress(value=0, max=3188), HTML(value='')))"
      ]
     },
     "metadata": {},
     "output_type": "display_data"
    },
    {
     "name": "stdout",
     "output_type": "stream",
     "text": [
      "\n"
     ]
    },
    {
     "data": {
      "application/vnd.jupyter.widget-view+json": {
       "model_id": "471bc8d99cac43b28095b0b7768c61fd",
       "version_major": 2,
       "version_minor": 0
      },
      "text/plain": [
       "HBox(children=(IntProgress(value=0, max=238), HTML(value='')))"
      ]
     },
     "metadata": {},
     "output_type": "display_data"
    },
    {
     "name": "stdout",
     "output_type": "stream",
     "text": [
      "\n",
      "    0.7778        0.3863       0.3863            13.3491      0.4234           14.7185\n"
     ]
    },
    {
     "data": {
      "application/vnd.jupyter.widget-view+json": {
       "model_id": "b28e288d81794075bad765dc09e2f5eb",
       "version_major": 2,
       "version_minor": 0
      },
      "text/plain": [
       "HBox(children=(IntProgress(value=0, max=3188), HTML(value='')))"
      ]
     },
     "metadata": {},
     "output_type": "display_data"
    },
    {
     "name": "stdout",
     "output_type": "stream",
     "text": [
      "\n"
     ]
    },
    {
     "data": {
      "application/vnd.jupyter.widget-view+json": {
       "model_id": "dfc110e2c6424482a446cdc98d80acd8",
       "version_major": 2,
       "version_minor": 0
      },
      "text/plain": [
       "HBox(children=(IntProgress(value=0, max=238), HTML(value='')))"
      ]
     },
     "metadata": {},
     "output_type": "display_data"
    },
    {
     "name": "stdout",
     "output_type": "stream",
     "text": [
      "\n",
      "    0.8889        0.2095       0.2095             7.7070      0.2786           10.5252\n"
     ]
    },
    {
     "data": {
      "application/vnd.jupyter.widget-view+json": {
       "model_id": "39c65ad123e748c2a6915ac3c53d2a93",
       "version_major": 2,
       "version_minor": 0
      },
      "text/plain": [
       "HBox(children=(IntProgress(value=0, max=3188), HTML(value='')))"
      ]
     },
     "metadata": {},
     "output_type": "display_data"
    },
    {
     "name": "stdout",
     "output_type": "stream",
     "text": [
      "\n"
     ]
    },
    {
     "data": {
      "application/vnd.jupyter.widget-view+json": {
       "model_id": "f55f88be4e5b4830bfdea1ced665c841",
       "version_major": 2,
       "version_minor": 0
      },
      "text/plain": [
       "HBox(children=(IntProgress(value=0, max=238), HTML(value='')))"
      ]
     },
     "metadata": {},
     "output_type": "display_data"
    },
    {
     "name": "stdout",
     "output_type": "stream",
     "text": [
      "\n",
      "    1.0000        0.1530       0.1530             5.7287      0.2474            9.4706\n"
     ]
    }
   ],
   "source": [
    "torch.backends.cudnn.benchmark = True\n",
    "\n",
    "architecture = getattr(models, model_name)\n",
    "kwargs = {\n",
    "    'batch_size': batch_size,\n",
    "    'hidden_size': 256,\n",
    "    'embedding_length': 300,\n",
    "    'vocab_size': vocab_size,\n",
    "    'weights': word_embeddings\n",
    "}\n",
    "\n",
    "base_model = architecture.base(num_classes=num_classes, **kwargs)\n",
    "base_model.cuda()\n",
    "\n",
    "\n",
    "criterion = torch.nn.CrossEntropyLoss()\n",
    "#regularizer = utils.l2_regularizer(wd)\n",
    "regularizer = None\n",
    "\n",
    "def get_weights(model):\n",
    "    return np.concatenate([p.data.cpu().numpy().ravel() for p in model.parameters()])\n",
    "\n",
    "T = (num_points - 1) * (len(ckpts) - 1) + 1\n",
    "ts = np.linspace(0.0, len(ckpts) - 1, T)\n",
    "tr_loss = np.zeros(T)\n",
    "tr_nll = np.zeros(T)\n",
    "tr_acc = np.zeros(T)\n",
    "te_loss = np.zeros(T)\n",
    "te_nll = np.zeros(T)\n",
    "te_acc = np.zeros(T)\n",
    "tr_err = np.zeros(T)\n",
    "te_err = np.zeros(T)\n",
    "\n",
    "columns = ['t', 'Train loss', 'Train nll', 'Train error (%)', 'Test nll', 'Test error (%)']\n",
    "\n",
    "alphas = np.linspace(0.0, 1.0, num_points)\n",
    "\n",
    "for path in ckpts:\n",
    "    print(path)\n",
    "\n",
    "step = 0\n",
    "for i in range(len(ckpts) - 1):\n",
    "    base_model.load_state_dict(torch.load(ckpts[i])['model_state'])\n",
    "    w_1 = get_weights(base_model)\n",
    "\n",
    "    base_model.load_state_dict(torch.load(ckpts[i + 1])['model_state'])\n",
    "    w_2 = get_weights(base_model)\n",
    "    for alpha in alphas[1 if i > 0 else 0:]:\n",
    "        w = (1.0 - alpha) * w_1 + alpha * w_2\n",
    "        offset = 0\n",
    "        for parameter in base_model.parameters():\n",
    "            size = np.prod(parameter.size())\n",
    "            value = w[offset:offset+size].reshape(parameter.size())\n",
    "            parameter.data.copy_(torch.from_numpy(value))\n",
    "            offset += size\n",
    "\n",
    "        #utils.update_bn(loaders['train'], base_model)\n",
    "\n",
    "        tr_res = utils.eval_model(train_loader, base_model, criterion, batch_size, regularizer)\n",
    "        te_res = utils.eval_model(test_loader, base_model, criterion, batch_size, regularizer)\n",
    "\n",
    "        tr_loss[step] = tr_res['loss']\n",
    "        tr_nll[step] = tr_res['nll']\n",
    "        tr_acc[step] = tr_res['acc']\n",
    "        tr_err[step] = 100.0 - tr_acc[step]\n",
    "        te_loss[step] = te_res['loss']\n",
    "        te_nll[step] = te_res['nll']\n",
    "        te_acc[step] = te_res['acc']\n",
    "        te_err[step] = 100.0 - te_acc[step]\n",
    "\n",
    "        values = [ts[step], tr_loss[step], tr_nll[step], tr_err[step], te_nll[step], te_err[step]]\n",
    "        table = tabulate.tabulate([values], columns, tablefmt='simple', floatfmt='10.4f')\n",
    "        if step % 40 == 0:\n",
    "            table = table.split('\\n')\n",
    "            table = '\\n'.join([table[1]] + table)\n",
    "        else:\n",
    "            table = table.split('\\n')[2]\n",
    "        print(table)\n",
    "        step += 1\n",
    "\n",
    "\n",
    "np.savez(\n",
    "    os.path.join(c_dir, 'chain1.npz'),\n",
    "    ts=ts,\n",
    "    tr_loss=tr_loss,\n",
    "    tr_nll=tr_nll,\n",
    "    tr_acc=tr_acc,\n",
    "    tr_err=tr_err,\n",
    "    te_loss=te_loss,\n",
    "    te_nll=te_nll,\n",
    "    te_acc=te_acc,\n",
    "    te_err=te_err,\n",
    ")"
   ]
  },
  {
   "cell_type": "code",
   "execution_count": 19,
   "metadata": {},
   "outputs": [],
   "source": []
  },
  {
   "cell_type": "code",
   "execution_count": null,
   "metadata": {},
   "outputs": [],
   "source": []
  }
 ],
 "metadata": {
  "kernelspec": {
   "display_name": "Python 3",
   "language": "python",
   "name": "python3"
  },
  "language_info": {
   "codemirror_mode": {
    "name": "ipython",
    "version": 3
   },
   "file_extension": ".py",
   "mimetype": "text/x-python",
   "name": "python",
   "nbconvert_exporter": "python",
   "pygments_lexer": "ipython3",
   "version": "3.5.2"
  }
 },
 "nbformat": 4,
 "nbformat_minor": 2
}
